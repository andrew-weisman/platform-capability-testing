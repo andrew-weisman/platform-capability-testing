{
 "cells": [
  {
   "attachments": {},
   "cell_type": "markdown",
   "metadata": {},
   "source": [
    "# Jupyter notebook for testing scientific platform applications"
   ]
  },
  {
   "attachments": {},
   "cell_type": "markdown",
   "metadata": {},
   "source": [
    "## Setup"
   ]
  },
  {
   "cell_type": "code",
   "execution_count": 1,
   "metadata": {},
   "outputs": [],
   "source": [
    "# Import relevant library\n",
    "import test_module as tm\n",
    "\n",
    "# Parameters\n",
    "csv_file = 'trees.csv'  # downloaded from https://people.sc.fsu.edu/~jburkardt/data/csv/csv.html\n",
    "column = ['girth', 'height']\n",
    "bins = 5\n",
    "animal = 'monkey'"
   ]
  },
  {
   "attachments": {},
   "cell_type": "markdown",
   "metadata": {},
   "source": [
    "## Load and clean the data"
   ]
  },
  {
   "cell_type": "code",
   "execution_count": 2,
   "metadata": {},
   "outputs": [],
   "source": [
    "df = tm.load_data(csv_file)"
   ]
  },
  {
   "attachments": {},
   "cell_type": "markdown",
   "metadata": {},
   "source": [
    "## Plot histograms of selected columns"
   ]
  },
  {
   "cell_type": "code",
   "execution_count": 3,
   "metadata": {},
   "outputs": [
    {
     "name": "stderr",
     "output_type": "stream",
     "text": [
      "/home/weismanal/projects/nci-dmap-test/test_module.py:53: UserWarning: To output multiple subplots, the figure containing the passed axes is being cleared.\n",
      "  df.hist(column=column, bins=bins, ax=ax)\n"
     ]
    },
    {
     "data": {
      "text/plain": [
       "(<Figure size 640x480 with 2 Axes>, <AxesSubplot:>)"
      ]
     },
     "execution_count": 3,
     "metadata": {},
     "output_type": "execute_result"
    },
    {
     "data": {
      "image/png": "[encoded data removed]",
      "text/plain": [
       "<Figure size 640x480 with 2 Axes>"
      ]
     },
     "metadata": {},
     "output_type": "display_data"
    }
   ],
   "source": [
    "tm.plot_histograms(df, column, bins)"
   ]
  },
  {
   "attachments": {},
   "cell_type": "markdown",
   "metadata": {},
   "source": [
    "## Print the animal and dataframe averages"
   ]
  },
  {
   "cell_type": "code",
   "execution_count": 4,
   "metadata": {},
   "outputs": [
    {
     "name": "stdout",
     "output_type": "stream",
     "text": [
      "Monkey, here are the averages:\n",
      "girth     13.248387\n",
      "height    76.000000\n",
      "volume    30.170968\n",
      "dtype: float64\n"
     ]
    }
   ],
   "source": [
    "tm.print_output(animal, df)"
   ]
  }
 ],
 "metadata": {
  "kernelspec": {
   "display_name": "2022-09-23",
   "language": "python",
   "name": "python3"
  },
  "language_info": {
   "codemirror_mode": {
    "name": "ipython",
    "version": 3
   },
   "file_extension": ".py",
   "mimetype": "text/x-python",
   "name": "python",
   "nbconvert_exporter": "python",
   "pygments_lexer": "ipython3",
   "version": "3.10.4"
  },
  "orig_nbformat": 4,
  "vscode": {
   "interpreter": {
    "hash": "d8e69572194878faaf46bd39e588b4f27f974f1e9d7e1b4c946ea9834a4216af"
   }
  }
 },
 "nbformat": 4,
 "nbformat_minor": 2
}
